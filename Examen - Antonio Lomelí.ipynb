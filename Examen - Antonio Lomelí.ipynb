{
 "cells": [
  {
   "cell_type": "markdown",
   "metadata": {},
   "source": [
    "# Examen Módulo 1 - Optimización.\n",
    "\n",
    "**Lea cuidadosamente las siguientes indicaciones antes de comenzar el examen:**\n",
    "- Para resolver el examen edite este mismo archivo y renómbrelo de la siguiente manera: *Examen1_ApellidoNombre*, donde *ApellidoNombre* corresponde a su apellido paterno con la inicial en mayúscula, seguido de su primer nombre con la inicial en mayúscula **sin acentos**. Por ejemplo, en mi caso el nombre del archivo sería *Examen1_ArellanoCarlos*.\n",
    "- Resuelva los puntos en el espacio provisto. Si requiere agregar más celdas para código o escritura, hágalo (`Esc`+`B`) o (`Esc`+`A`).\n",
    "- Recuerde que también se está evaluando su capacidad de interpretar los resultados. Escriba sus interpretaciones/conclusiones en celdas utilizando *Markdown*.\n",
    "- El formato de presentación de todo el examen en general debe ser adecuado. Use tamaños de letra, colores, etiquetas, etcétera.\n",
    "- No se resuelven dudas de ningún tipo por los profesores de la asignatura. Por favor, absténgase de preguntar.\n",
    "- Revise bien el tipo de examen. Sólo se le calificará si realiza el tipo de examen asignado."
   ]
  },
  {
   "cell_type": "markdown",
   "metadata": {},
   "source": [
    "---\n",
    "# Primer punto. Optimización de funciones con `SymPy`\n",
    "\n",
    "Considere una cruz simétrica inscrita en un círculo de radio $r$"
   ]
  },
  {
   "cell_type": "code",
   "execution_count": 1,
   "metadata": {},
   "outputs": [
    {
     "data": {
      "image/png": "[encoded data removed]",
      "text/plain": [
       "<Figure size 432x288 with 1 Axes>"
      ]
     },
     "metadata": {
      "needs_background": "light"
     },
     "output_type": "display_data"
    }
   ],
   "source": [
    "import numpy as np\n",
    "import matplotlib.pyplot as plt\n",
    "import matplotlib.patches as patches\n",
    "%matplotlib inline\n",
    "\n",
    "ct = np.cos(0.3)\n",
    "st = np.sin(0.3)\n",
    "x = np.linspace(-ct,ct,1000)\n",
    "y = np.zeros(np.shape(x))\n",
    "y[1:500] = [st if i < -st else ct for i in x[1:500]]\n",
    "y[500:999] = [st if i > st else ct for i in x[500:999]]\n",
    "\n",
    "p = patches.Circle((0, 0), 1,fc='w',lw=2,color='k')\n",
    "ax = plt.gca()\n",
    "ax.add_artist(p)\n",
    "plt.text(0.1,0.6,'$r$')\n",
    "\n",
    "plt.plot(x,y,'r')\n",
    "plt.plot(x,-y,'r')\n",
    "\n",
    "plt.plot([-st,0,st],[ct,0,ct],'k--')\n",
    "plt.text(-0.04,0.4,r'$\\theta$')\n",
    "a = patches.Arc((0, 0),0.7,0.7,90,theta1=-0.3*180/np.pi,theta2=0.3*180/np.pi,\n",
    "                fc='w',color='k',ls='--')\n",
    "ax.add_artist(a)\n",
    "\n",
    "plt.axis([-1,1,-1,1])\n",
    "plt.axis('equal')\n",
    "plt.axis('off')\n",
    "#plt.tight_layout()\n",
    "plt.show()"
   ]
  },
  {
   "cell_type": "markdown",
   "metadata": {},
   "source": [
    "1. Escribir el área $A$ de la cruz como una función de $\\theta$. Realice este punto usando fórmulas de $\\LaTeX$, en celdas *Markdown*.\n",
    "2. Determinar el valor de $\\theta$ que maximiza el área para un radio $r=2$.\n",
    "3. ¿Cuál es el área máxima de la cruz?"
   ]
  },
  {
   "cell_type": "markdown",
   "metadata": {},
   "source": [
    "**Pista:** Divida la cruz en cuatro partes iguales determinadas por los ejes $x$ y $y$. El resto es trigonometría básica."
   ]
  },
  {
   "cell_type": "markdown",
   "metadata": {},
   "source": [
    "### 1. Escribir el área $A$ de la cruz como una función de $\\theta$\n",
    ">Primero dividimos la cruz en cuatro partes iguales, formando 4 rectángulos. Debemos maximizar el área de cada rectángulo y después maximizar esta área.\n",
    "\n",
    ">Si dividimos a un ángulo justo por la mitad formaremos un triángulo rectángulo, con eso podemos usar las identidades trigronométricas para calcular sus catetos a partir de su hipotenusa, en este caso la hipotenusa es el radio del círculo que es igual a 2cm.\n",
    "\n",
    ">A continuación el planteamiento gráfico que origina la función a maximizar"
   ]
  },
  {
   "attachments": {
    "image.png": {
     "image/png": "[encoded data removed]"
    }
   },
   "cell_type": "markdown",
   "metadata": {},
   "source": [
    "![image.png](attachment:image.png)"
   ]
  },
  {
   "cell_type": "markdown",
   "metadata": {},
   "source": [
    "> Formamos la función a maximizar a partir de la fórmula del área de un rectángulo $ A=b*h $:\n",
    ">> - $ b= r*sin(\\theta) $ y $h= r*cos(\\theta)$\n",
    ">> - Cada rectángulo que obtenemos por este método representa un octavo del área de la cruz, hasta el momento la función sería: $$ A(\\theta) = 8r^2*sin(\\theta)*cos(\\theta) $$\n",
    ">> - El área del centro de la cruz es un cuadrado cuyos lados están formados por $ 2b $ y su área debe ser restada de la función anterior, entonces la **función de área de la cruz queda como:** $$ A(\\theta) = 4r^2*(2sin(\\theta)*cos(\\theta) - sin^2(\\theta)) $$\n"
   ]
  },
  {
   "cell_type": "markdown",
   "metadata": {},
   "source": [
    "### 2. Determinar el valor de $\\theta$ que maximiza el área para un radio $r=2$\n",
    "\n",
    "Nuestra función a maximizar es:\n",
    "\n",
    "$$ A(\\theta) = 4r^2*(2sin(\\theta)*cos(\\theta) - sin^2(\\theta)) $$\n",
    "\n",
    "Conocemos el valor de r entonces queda como:\n",
    "\n",
    "$$ A(\\theta) = 16*(2sin(\\theta)*cos(\\theta) - sin^2(\\theta)) $$\n"
   ]
  },
  {
   "cell_type": "code",
   "execution_count": 12,
   "metadata": {},
   "outputs": [],
   "source": [
    "import sympy as sp\n",
    "import numpy as np"
   ]
  },
  {
   "cell_type": "code",
   "execution_count": 77,
   "metadata": {
    "scrolled": true
   },
   "outputs": [
    {
     "name": "stdout",
     "output_type": "stream",
     "text": [
      "2.12\n",
      "min\n",
      "-2.59\n",
      "max\n",
      "-1.02\n",
      "min\n",
      "0.55\n",
      "max\n"
     ]
    }
   ],
   "source": [
    "# Formamos la función y declaramos las variables\n",
    "fun=16*((2*(sp.sin(x))*(sp.cos(x))) - ((sp.sin(x))**2))\n",
    "sp.var(\"x\")\n",
    "\n",
    "# Encontramos la primera derivada y puntos críticos\n",
    "d=sp.diff(fun,x)\n",
    "pc=sp.solve(d,x)\n",
    "\n",
    "for i in pc:\n",
    "    res=round(i,2)\n",
    "    print(res)\n",
    "    \n",
    "    dd=sp.diff(d,x)\n",
    "    prueba=dd.subs(x,i)\n",
    "    if prueba==0:\n",
    "        print(\"insuficiente\")\n",
    "    elif prueba>0:\n",
    "        print(\"min\")\n",
    "    elif prueba<0:\n",
    "        print(\"max\")\n"
   ]
  },
  {
   "cell_type": "markdown",
   "metadata": {},
   "source": [
    "Observando los resultados de los puntos críticos nos damos cuenta que el valor de alfa factible es de 0.55 radianes, porque alfa es igual a dos theta, por lo tanto, theta no puede ser mayor a 1.57 radianes ($ 6\\pi /4 $) y tener un valor negativo de theta hace que el ángulo sea aún mayor. \n",
    "\n",
    "Entonces, el valor de theta que hace del área máxima es de **aprox. 1.11 rad**."
   ]
  },
  {
   "cell_type": "markdown",
   "metadata": {},
   "source": [
    "### 3. ¿Cuál es el área máxima de la cruz?"
   ]
  },
  {
   "cell_type": "code",
   "execution_count": 80,
   "metadata": {},
   "outputs": [
    {
     "name": "stdout",
     "output_type": "stream",
     "text": [
      "9.888086732387585\n"
     ]
    }
   ],
   "source": [
    "# Sustituimos el valor del punto crítico en una función de numpy\n",
    "\n",
    "def funcion1(x):\n",
    "    return 16*((2*(np.sin(x))*(np.cos(x))) - ((np.sin(x))**2))\n",
    "\n",
    "resultado=funcion1(0.55)\n",
    "print(resultado)"
   ]
  },
  {
   "cell_type": "markdown",
   "metadata": {},
   "source": [
    "El **área máxima de la cruz** se forma cuando $\\theta=0.55$ radianes y es de **9.888 cm2**"
   ]
  },
  {
   "cell_type": "markdown",
   "metadata": {},
   "source": [
    "---\n",
    "# Segundo punto. Programación lineal\n",
    "Una fábrica de confitería está interesada en mezclar tres de sus marcas principales de golosinas (M1, M2, M3) para obtener tres nuevos productos (P1, P2, P3), que desea vender al precio de 4,3,2 u.m. por caja, respectivamente.\n",
    "La empresa puede importar 2000 cajas de M1, 4000 de la M2 y 1000 de la M3, siendo el precio que debe pagar de 3,2 y 1 u.m. por cada tipo de caja.\n",
    "\n",
    "El proveedor solicita que el Producto 1 (P1) contenga como mínimo el 80% de M1 y como máximo el 20% de M3. El producto 2 (P2) deberá contener como mínimo el 20% de M1 y no más del 80% de M3. El producto 3 (P3) no podrá contener más del 70% de M3.\n",
    "\n",
    "Encuentre la combinación que le genere el **máximo** beneficio (precio de venta menos el costo).\n",
    "\n",
    "Use las variables $x_{ij}$: Como la cantidad de la marca $i$ en el producto $j$.\n",
    "\n",
    "1. Escriba la función objetivo a **minimizar** junto con las restricciones, explicando detalladamente cada paso (usando fórmulas de $\\LaTeX$, en celdas Markdown). Además escriba el problema en la forma \\begin{equation}\n",
    "\\begin{array}{ll}\n",
    "\\min_{\\boldsymbol{x}} & \\boldsymbol{c}^T\\boldsymbol{x} \\\\\n",
    "\\text{s. a. }        & \\boldsymbol{A}_{eq}\\boldsymbol{x}=\\boldsymbol{b}_{eq} \\\\\n",
    "                     & \\boldsymbol{A}\\boldsymbol{x}\\leq\\boldsymbol{b},\n",
    "\\end{array}\\qquad\n",
    "\\end{equation}\n",
    "2. Resuelva el problema utilizando la función `linprog`. ¿Cuál es la combinación óptima para cada producto?, ¿Cuál es el beneficio que se genera?"
   ]
  },
  {
   "cell_type": "code",
   "execution_count": null,
   "metadata": {},
   "outputs": [],
   "source": []
  },
  {
   "cell_type": "code",
   "execution_count": null,
   "metadata": {},
   "outputs": [],
   "source": []
  },
  {
   "cell_type": "markdown",
   "metadata": {},
   "source": [
    "---\n",
    "# Tercer punto. Ajuste de curvas\n",
    "Los siguientes datos extraidos de la Federal Reserve Economic Data (FRED), son los salarios por empleado equivalente a tiempo completo en industrias privadas de EE.UU.: fondos, fideicomisos, etc. **entre los años 1998 y 2018**. \n",
    "\n",
    "https://www.quandl.com/data/FRED/N4461C0A052NBEA-Wage-and-salary-accruals-per-full-time-equivalent-employee-Domestic-private-industries-Funds-trusts-and-other-financial-vehicles "
   ]
  },
  {
   "cell_type": "code",
   "execution_count": 84,
   "metadata": {},
   "outputs": [],
   "source": [
    "import numpy as np\n",
    "y=np.array([ 55887.,  59365.,  65435.,  68065.,  71918.,  77257.,  92036.,\n",
    "        92645.,  99857.,  74935.,  78597.,  83134.,  87372., 104196.,\n",
    "       112597., 133821., 129107., 138259., 139083., 143762., 147334.])\n",
    "x=np.arange(8,29)"
   ]
  },
  {
   "cell_type": "code",
   "execution_count": 85,
   "metadata": {
    "scrolled": true
   },
   "outputs": [
    {
     "data": {
      "image/png": "[encoded data removed]",
      "text/plain": [
       "<Figure size 432x288 with 1 Axes>"
      ]
     },
     "metadata": {
      "needs_background": "light"
     },
     "output_type": "display_data"
    }
   ],
   "source": [
    "plt.plot(x+1980,y)\n",
    "plt.grid()"
   ]
  },
  {
   "cell_type": "markdown",
   "metadata": {},
   "source": [
    "1. Ajuste los salarios con polinomios de grado 1 a 3 y muestre los errores de forma gráfica, ¿Qué polinómio se ajusta mejor?\n",
    "2. Muestre en un gráfico los datos y el polinómio que mejor se ajuste\n",
    "3. Use el modelo para averiguar el salario a mediados del año 2005 y para predecirlo en el año 2025. ¿Qué diferencias encuentra en cuanto a la interpolación (esto es, obtener un punto medio) y la extrapolación  (es decir, obtener un dato fuera del rango conocido)?"
   ]
  },
  {
   "cell_type": "markdown",
   "metadata": {},
   "source": [
    "### 1. Ajuste los salarios con polinomios de grado 1 a 3 y muestre los errores de forma gráfica, ¿Qué polinómio se ajusta mejor?"
   ]
  },
  {
   "cell_type": "code",
   "execution_count": 88,
   "metadata": {},
   "outputs": [
    {
     "data": {
      "text/plain": [
       "      fun: 2247933171.754468\n",
       " hess_inv: array([[ 0.23425329, -0.01169186],\n",
       "       [-0.01169186,  0.00064958]])\n",
       "      jac: array([0., 0.])\n",
       "  message: 'Optimization terminated successfully.'\n",
       "     nfev: 54\n",
       "      nit: 6\n",
       "     njev: 18\n",
       "   status: 0\n",
       "  success: True\n",
       "        x: array([16474.8849785 ,  4520.34294477])"
      ]
     },
     "execution_count": 88,
     "metadata": {},
     "output_type": "execute_result"
    }
   ],
   "source": [
    "import scipy.optimize as opt\n",
    "\n",
    "# Definimos la función del error cuadrático para minimizarlo\n",
    "\n",
    "def fun(beta,X,y,m):\n",
    "    beta=np.reshape(beta, [m, -1])\n",
    "    pred= X @ beta\n",
    "    error= (y-pred).T @ (y-pred)\n",
    "    \n",
    "    return error[0][0]\n",
    "\n",
    "# Formamos las matrices X\n",
    "n=len(x)\n",
    "x=np.reshape(x, [n, -1])\n",
    "x0= np.ones([n, 1])\n",
    "x1= x\n",
    "x2= np.reshape(x**2,[n, -1] )\n",
    "x3= np.reshape(x**3, [n, -1])\n",
    "\n",
    "Xlin=np.hstack((x0,x1))\n",
    "X2=np.hstack((x0,x1,x2))\n",
    "X3=np.hstack((x0,x1,x2,x3))\n",
    "\n",
    "# Betas Iniciales\n",
    "beta_1=np.random.rand(2)\n",
    "beta_2=np.random.rand(3)\n",
    "beta_3=np.random.rand(4)\n",
    "\n",
    "# Matriz de datos y\n",
    "y= np.reshape(y, [n, -1])\n",
    "\n",
    "sol1=opt.minimize(fun, beta_1, args=(Xlin,y,2))\n",
    "sol1"
   ]
  },
  {
   "cell_type": "code",
   "execution_count": 89,
   "metadata": {},
   "outputs": [
    {
     "data": {
      "text/plain": [
       "      fun: 1818616347.0161762\n",
       " hess_inv: array([[ 1.88815631e-01, -1.14089216e-02,  1.11920216e-04],\n",
       "       [-1.14089216e-02,  1.28550591e-03, -3.25250483e-05],\n",
       "       [ 1.11920216e-04, -3.25250483e-05,  1.31256549e-06]])\n",
       "      jac: array([  0.,  16., 416.])\n",
       "  message: 'Desired error not necessarily achieved due to precision loss.'\n",
       "     nfev: 187\n",
       "      nit: 10\n",
       "     njev: 44\n",
       "   status: 2\n",
       "  success: False\n",
       "        x: array([56224.75146764,  -459.91337657,   138.3404109 ])"
      ]
     },
     "execution_count": 89,
     "metadata": {},
     "output_type": "execute_result"
    }
   ],
   "source": [
    "sol2=opt.minimize(fun, beta_2, args=(X2,y,3))\n",
    "sol2"
   ]
  },
  {
   "cell_type": "code",
   "execution_count": 90,
   "metadata": {},
   "outputs": [
    {
     "data": {
      "text/plain": [
       "      fun: 1746809626.493174\n",
       " hess_inv: array([[ 3.21471037e-02, -3.14633048e-02,  2.94663509e-03,\n",
       "        -6.88631176e-05],\n",
       "       [-3.14633048e-02,  3.13994416e-02, -2.95168466e-03,\n",
       "         6.91279354e-05],\n",
       "       [ 2.94663509e-03, -2.95168466e-03,  2.82388663e-04,\n",
       "        -6.69893297e-06],\n",
       "       [-6.88631176e-05,  6.91279354e-05, -6.69893297e-06,\n",
       "         1.60606477e-07]])\n",
       "      jac: array([ 0.,  0.,  0., 32.])\n",
       "  message: 'Desired error not necessarily achieved due to precision loss.'\n",
       "     nfev: 447\n",
       "      nit: 18\n",
       "     njev: 87\n",
       "   status: 2\n",
       "  success: False\n",
       "        x: array([6328.79274168, 9268.85953382, -441.3901683 ,   10.73572557])"
      ]
     },
     "execution_count": 90,
     "metadata": {},
     "output_type": "execute_result"
    }
   ],
   "source": [
    "sol3=opt.minimize(fun, beta_3, args=(X3,y,4))\n",
    "sol3"
   ]
  },
  {
   "cell_type": "code",
   "execution_count": 92,
   "metadata": {},
   "outputs": [
    {
     "data": {
      "image/png": "[encoded data removed]",
      "text/plain": [
       "<Figure size 432x288 with 1 Axes>"
      ]
     },
     "metadata": {
      "needs_background": "light"
     },
     "output_type": "display_data"
    }
   ],
   "source": [
    "plt.figure()\n",
    "xs=[1,2,3]\n",
    "ys=[ 2247933171.754468,1818616347.0161762,1746809626.493174]\n",
    "plt.scatter(xs,ys)\n",
    "plt.grid()"
   ]
  },
  {
   "cell_type": "markdown",
   "metadata": {},
   "source": [
    "La función que mejor predice el fenómeno es el **polinomio de grado tres**"
   ]
  },
  {
   "cell_type": "markdown",
   "metadata": {},
   "source": [
    "### 2. Muestre en un gráfico los datos y el polinómio que mejor se ajuste"
   ]
  },
  {
   "cell_type": "code",
   "execution_count": 98,
   "metadata": {},
   "outputs": [
    {
     "data": {
      "image/png": "[encoded data removed]",
      "text/plain": [
       "<Figure size 432x288 with 1 Axes>"
      ]
     },
     "metadata": {
      "needs_background": "light"
     },
     "output_type": "display_data"
    }
   ],
   "source": [
    "plt.figure()\n",
    "plt.plot(x,6328.79274168+9268.85953382*x-(441.3901683*x**2)+(10.73572557*x**3))\n",
    "plt.plot(x,y)\n",
    "plt.grid()"
   ]
  },
  {
   "cell_type": "markdown",
   "metadata": {},
   "source": [
    "### Salario a mediados del año 2005 y en el año 2025"
   ]
  },
  {
   "cell_type": "code",
   "execution_count": 100,
   "metadata": {},
   "outputs": [
    {
     "name": "stdout",
     "output_type": "stream",
     "text": [
      "129927.13793092998\n",
      "250330.15407162992\n"
     ]
    }
   ],
   "source": [
    "def f_sal(x):\n",
    "    return 6328.79274168+9268.85953382*x-(441.3901683*x**2)+(10.73572557*x**3)\n",
    "\n",
    "salario5=f_sal(2005-1980)\n",
    "salario15=f_sal(2015-1980)\n",
    "\n",
    "print(salario5)\n",
    "print(salario15)"
   ]
  },
  {
   "cell_type": "markdown",
   "metadata": {},
   "source": [
    "Según el modelo, el salario para 2005 es de **130,000 pesos approx** y para 2015 **será de 250,330 pesos**"
   ]
  },
  {
   "cell_type": "markdown",
   "metadata": {},
   "source": [
    "Interpolar un dato no siempre da un resultado \"real\", peor el resultado si está dentro de un intervalo de confianza. Al mismo tiempo extrapolar un dato no quiere decir que sea real, pero si que lo que obtenemos estará dentro de un intervalo de confianza que nos servirá."
   ]
  },
  {
   "cell_type": "code",
   "execution_count": null,
   "metadata": {},
   "outputs": [],
   "source": []
  }
 ],
 "metadata": {
  "kernelspec": {
   "display_name": "Python 3 (ipykernel)",
   "language": "python",
   "name": "python3"
  },
  "language_info": {
   "codemirror_mode": {
    "name": "ipython",
    "version": 3
   },
   "file_extension": ".py",
   "mimetype": "text/x-python",
   "name": "python",
   "nbconvert_exporter": "python",
   "pygments_lexer": "ipython3",
   "version": "3.9.12"
  }
 },
 "nbformat": 4,
 "nbformat_minor": 4
}
