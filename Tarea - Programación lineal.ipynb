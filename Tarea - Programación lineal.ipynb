{
 "cells": [
  {
   "cell_type": "markdown",
   "metadata": {},
   "source": [
    "# Tarea - Programación lineal"
   ]
  },
  {
   "cell_type": "markdown",
   "metadata": {},
   "source": [
    "### Diseño de la Dieta Óptima\n",
    "\n",
    "Se quiere producir comida para gatos de la manera más barata, no obstante se debe también asegurar que se cumplan los datos requeridos de analisis nutricional. Por lo que se quiere variar la cantidad de cada ingrediente para cumplir con los estandares nutricionales. Los requisitos que se tienen es que en $100$ gramos, se deben tener **por lo menos** $8$ gramos de proteína y $6$ gramos de grasa. Así mismo, no se debe tener más de $2$ gramos de fibra y $0.4$ gramos de sal.  \n",
    "\n",
    "Los datos nutricionales se pueden obtener de la siguiente tabla:\n",
    "\n",
    "Ingrediente|Proteína|Grasa|Fibra|Sal\n",
    ":----|----|----|----|----\n",
    "Pollo|  10.0%|08.0%|00.1%|00.2%\n",
    "Carne|  20.0%|10.0%|00.5%|00.5%\n",
    "Cordero|15.0%|11.0%|00.5%|00.7%\n",
    "Arroz|  00.0%|01.0%|10.0%|00.2%\n",
    "Trigo|  04.0%|01.0%|15.0%|00.8%\n",
    "Gel|    00.0%|00.0%|00.0%|00.0%\n",
    "\n",
    "Los costos de cada producto son:\n",
    "\n",
    "Ingrediente|Costo por gramo\n",
    ":----|----\n",
    "Pollo|$\\$$0.013\n",
    "Carne|$\\$$0.008\n",
    "Cordero|$\\$$0.010\n",
    "Arroz|$\\$$0.002\n",
    "Trigo|$\\$$0.005\n",
    "Gel|$\\$$0.001    \n",
    "\n",
    "Lo que se busca optimizar en este caso es la cantidad de productos que se debe utilizar en la comida de gato, minimizando el costo total. Para simplificar la notación use las siguientes variables: \n",
    "\n",
    "+ $x_1:$ Gramos de pollo  \n",
    "+ $x_2:$ Gramos de carne  \n",
    "+ $x_3:$ Gramos de cordero  \n",
    "+ $x_4:$ Gramos de arroz  \n",
    "+ $x_5:$ Gramos de trigo  \n",
    "+ $x_6:$ Gramos de gel\n",
    "\n",
    "La tarea consiste en plantear el problemade programación lineal que permita satisfacer las necesidades alimenticias del gato al tiempo que minimice el costo total y resolverlo con `linprog`."
   ]
  },
  {
   "cell_type": "code",
   "execution_count": 1,
   "metadata": {},
   "outputs": [],
   "source": [
    "import scipy.optimize as opt\n",
    "import numpy as np"
   ]
  },
  {
   "cell_type": "code",
   "execution_count": 13,
   "metadata": {},
   "outputs": [
    {
     "data": {
      "text/plain": [
       "     con: array([3.01838554e-11])\n",
       "     fun: 0.520000000021656\n",
       " message: 'Optimization terminated successfully.'\n",
       "     nit: 8\n",
       "   slack: array([4.00000000e+00, 7.70405961e-11, 1.70000000e+00, 1.00000000e-01])\n",
       "  status: 0\n",
       " success: True\n",
       "       x: array([4.50819666e-10, 6.00000000e+01, 4.08653402e-09, 2.29072688e-08,\n",
       "       3.70730008e-10, 4.00000000e+01])"
      ]
     },
     "execution_count": 13,
     "metadata": {},
     "output_type": "execute_result"
    }
   ],
   "source": [
    "c=np.array([0.013,0.008,0.010,0.002,0.005,0.001])\n",
    "A_ub=np.array([\n",
    "            [ -0.1 ,  -0.2 ,  -0.15,  0   , -0.04,   0],\n",
    "            [ -0.08,  -0.1 ,  -0.11, -0.01, -0.01,   0],\n",
    "            [ 0.001, 0.005 , 0.005 ,  0.1 , 0.15 ,   0],\n",
    "            [ 0.002, 0.005 , 0.007 , 0.002, 0.008,   0]\n",
    "           ])\n",
    "b_ub=np.array([-8,-6,2,0.4])\n",
    "\n",
    "A_eq=np.array([[1,1,1,1,1,1]])\n",
    "b_eq=np.array([100])\n",
    "\n",
    "opt.linprog(c,A_ub,b_ub,A_eq,b_eq)"
   ]
  },
  {
   "cell_type": "markdown",
   "metadata": {},
   "source": [
    "El precio mínimo de ***52 centavos*** por 100 g de producto se logra si se usan:\n",
    "- 60 gramos de Carne\n",
    "- 40 gramos de Gel"
   ]
  },
  {
   "cell_type": "markdown",
   "metadata": {},
   "source": [
    "### Problema de distribución de energía eléctrica\n",
    "\n",
    "La Comisión Federal de Electricidad **(CFE)** dispone de cuatro plantas de generación para satisfacer la demanda diaria eléctrica en cuatro ciudades, Guadalajara, León y Morelia. Las plantas $1$, $2$ y $3$ pueden satisfacer $80$, $40$ y $60$ millones de KW al día respectivamente. Las necesidades de las ciudades de Guadalajara, León y Morelia son de $70$, $40$ y $70$ millones de Kw al día respectivamente. \n",
    "\n",
    "\n",
    "Los costos asociados al envío de suministro energético por cada millón de Kw entre cada planta y cada ciudad son los registrados en la siguiente tabla. \n",
    "\n",
    "-|Guadalajara|León|Morelia\n",
    ":----|----|----|----\n",
    "Planta 1|5|2|7\n",
    "Planta 2|3|6|6\n",
    "Planta 3|6|1|2\n",
    "\n",
    "Y por último, las restricciones del problema, van a estar dadas por las capacidades de oferta y demanda de cada planta (en millones de KW) y cada ciudad.\n",
    "\n",
    "Para simplificar la notación use las siguientes variables:\n",
    "\n",
    "+ $x_1$: Kw (en millones) distribuidos de la Planta 1 a Guadalajara\n",
    "+ $x_2$: Kw (en millones) distribuidos de la Planta 1 a León\n",
    "+ $x_3$: Kw (en millones) distribuidos de la Planta 1 a Morelia\n",
    "+ $x_4$: Kw (en millones) distribuidos de la Planta 2 a Guadalajara\n",
    "+ $x_5$: Kw (en millones) distribuidos de la Planta 2 a León\n",
    "+ $x_6$: Kw (en millones) distribuidos de la Planta 2 a Morelia\n",
    "+ $x_7$: Kw (en millones) distribuidos de la Planta 3 a Guadalajara\n",
    "+ $x_8$: Kw (en millones) distribuidos de la Planta 3 a León\n",
    "+ $x_9$: Kw (en millones) distribuidos de la Planta 3 a Morelia\n",
    "\n",
    "La tarea consiste en plantear el problema de programación lineal que permita satisfacer las necesidades de todas las ciudades al tiempo que minimice los costos asociados a la distribución y resolverlo con `linprog`."
   ]
  },
  {
   "cell_type": "markdown",
   "metadata": {},
   "source": [
    "Lla ***función objetivo*** para minimizar es:\n",
    "$$5x_1+2x_2+7x_3+3x_4+6x_5+6x_6+6x_7+x_8+2x_9$$\n",
    "\n",
    "Las variables de la planta 1 son: $x_1,x_2,x_3$\n",
    "y su ecuación es $x_1+x_2+x_3\\leq80$\n",
    "\n",
    "Las variables de la planta 2 son: $x_4,x_5,x_6$\n",
    "y su ecuación es $x_4+x_5+x_6\\leq40$\n",
    "\n",
    "Las variables de la planta 1 son: $x_7,x_8,x_9$\n",
    "y su ecuación es $x_7+x_8+x_9\\leq60$"
   ]
  },
  {
   "cell_type": "markdown",
   "metadata": {},
   "source": [
    "El consumo de Guadalajara está dado por $x_1+x_4+x_7\\geq70$\n",
    "\n",
    "El consumo de León está dado por $x_2+x_5+x_8\\geq40$\n",
    "\n",
    "El consumo de Morelia está dado por $x_3+x_6+x_9\\geq70$"
   ]
  },
  {
   "cell_type": "code",
   "execution_count": 11,
   "metadata": {},
   "outputs": [
    {
     "name": "stderr",
     "output_type": "stream",
     "text": [
      "C:\\Users\\tony_\\AppData\\Local\\Temp\\ipykernel_13460\\2429909114.py:16: OptimizeWarning: Solving system with option 'cholesky':True failed. It is normal for this to happen occasionally, especially as the solution is approached. However, if you see this frequently, consider setting option 'cholesky' to False.\n",
      "  opt.linprog(c,A,b)\n",
      "C:\\Users\\tony_\\AppData\\Local\\Temp\\ipykernel_13460\\2429909114.py:16: OptimizeWarning: Solving system with option 'sym_pos':True failed. It is normal for this to happen occasionally, especially as the solution is approached. However, if you see this frequently, consider setting option 'sym_pos' to False.\n",
      "  opt.linprog(c,A,b)\n"
     ]
    },
    {
     "data": {
      "text/plain": [
       "     con: array([], dtype=float64)\n",
       "     fun: 539.9999999945517\n",
       " message: 'Optimization terminated successfully.'\n",
       "     nit: 6\n",
       "   slack: array([ 8.83190410e-10,  4.27569091e-10,  6.52448762e-10, -7.69162511e-10,\n",
       "       -4.24861923e-10, -7.69190933e-10])\n",
       "  status: 0\n",
       " success: True\n",
       "       x: array([3.00000000e+01, 4.00000000e+01, 1.00000000e+01, 4.00000000e+01,\n",
       "       4.67449811e-11, 6.07990748e-12, 2.20972261e-11, 2.37736910e-11,\n",
       "       6.00000000e+01])"
      ]
     },
     "execution_count": 11,
     "metadata": {},
     "output_type": "execute_result"
    }
   ],
   "source": [
    "import scipy.optimize as opt\n",
    "import numpy as np\n",
    "\n",
    "c=np.array([5,2,7,3,6,6,6,1,2])\n",
    "\n",
    "A=np.array([[ 1 , 1 , 1 , 0 , 0 , 0 , 0 , 0 , 0 ],\n",
    "            [ 0 , 0 , 0 , 1 , 1 , 1 , 0 , 0 , 0 ],\n",
    "            [ 0 , 0 , 0 , 0 , 0 , 0 , 1 , 1 , 1 ],\n",
    "            [-1 , 0 , 0 ,-1 , 0 , 0 ,-1 , 0 , 0 ],\n",
    "            [ 0 ,-1 , 0 , 0 ,-1 , 0 , 0 ,-1 , 0 ],\n",
    "            [ 0 , 0 ,-1 , 0 , 0 ,-1 , 0 , 0 ,-1 ],\n",
    "           ])\n",
    "\n",
    "b=np.array([80,40,60,-70,-40,-70])\n",
    "\n",
    "opt.linprog(c,A,b)"
   ]
  },
  {
   "cell_type": "markdown",
   "metadata": {},
   "source": [
    "Para que el ***costo mínimo*** de abastecer a esas ciudades ***sea de 540 pesos*** las centrales deben abastecer:\n",
    "- De la planta 1 a Guadalajara 30 millones de Kw\n",
    "- De la planta 1 a León, Gto 40 millones de Kw\n",
    "- De la planta 1 a Morelia 10 millones de Kw\n",
    "- La planta 2 debe enviar toda su producción (40 millones de Kw) a Guadalajara\n",
    "- La planta 3 debe enviar toda su producción (60 millones de kw) a Morelia"
   ]
  }
 ],
 "metadata": {
  "kernelspec": {
   "display_name": "Python 3 (ipykernel)",
   "language": "python",
   "name": "python3"
  },
  "language_info": {
   "codemirror_mode": {
    "name": "ipython",
    "version": 3
   },
   "file_extension": ".py",
   "mimetype": "text/x-python",
   "name": "python",
   "nbconvert_exporter": "python",
   "pygments_lexer": "ipython3",
   "version": "3.9.12"
  }
 },
 "nbformat": 4,
 "nbformat_minor": 2
}
