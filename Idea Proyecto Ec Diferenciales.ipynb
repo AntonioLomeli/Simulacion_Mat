{
 "cells": [
  {
   "cell_type": "markdown",
   "id": "3b124589",
   "metadata": {},
   "source": [
    "**Problema**\n",
    "\n",
    "Determina la tendencia del beneficio de los próximos 10 días de una empresa sabiendo que la tasa instantánea de variación de los ingresos es proporcional al beneficio inicial y los gastos son proporcional al beneficio existente en cada momento. Los ingresos y gastos iniciales son de 5 y 1 millón de euros y las constantes de porporcionalidad son de $\\frac{1}{2}$ y 2."
   ]
  },
  {
   "cell_type": "code",
   "execution_count": 1,
   "id": "fb731680",
   "metadata": {},
   "outputs": [],
   "source": [
    "import numpy as np\n",
    "import sympy as sp\n",
    "import matplotlib.pyplot as plt"
   ]
  },
  {
   "cell_type": "code",
   "execution_count": 2,
   "id": "e2cb8f1d",
   "metadata": {},
   "outputs": [
    {
     "data": {
      "text/latex": [
       "$\\displaystyle I{\\left(t \\right)} = C_{1} + 2.0 t$"
      ],
      "text/plain": [
       "Eq(I(t), C1 + 2.0*t)"
      ]
     },
     "execution_count": 2,
     "metadata": {},
     "output_type": "execute_result"
    }
   ],
   "source": [
    "Ingreso_inicial=5\n",
    "Gasto_inicial=1\n",
    "b0=Ingreso_inicial-Gasto_inicial\n",
    "\n",
    "# Derivada del Ingreso con respecto al tiempo, encontramos I(t) con sympy\n",
    "def ing(k=1/2,b=b0):\n",
    "    return k*b\n",
    "\n",
    "cte=ing()\n",
    "\n",
    "I=sp.Function('I')\n",
    "t=sp.var('t')\n",
    "\n",
    "ed = sp.Eq( sp.diff(I(t),t), cte )\n",
    "sp.dsolve(ed,I(t))"
   ]
  },
  {
   "cell_type": "code",
   "execution_count": 3,
   "id": "b8d98e21",
   "metadata": {},
   "outputs": [
    {
     "data": {
      "text/latex": [
       "$\\displaystyle I{\\left(0 \\right)} = C_{1}$"
      ],
      "text/plain": [
       "Eq(I(0), C1)"
      ]
     },
     "execution_count": 3,
     "metadata": {},
     "output_type": "execute_result"
    }
   ],
   "source": [
    "sp.dsolve(ed,I(t)).subs(t,0)\n",
    "# Como el ingreso incial es de 5, la solución analítica es: I(t)=2t+5"
   ]
  },
  {
   "cell_type": "code",
   "execution_count": 9,
   "id": "b32f1137",
   "metadata": {},
   "outputs": [
    {
     "data": {
      "text/latex": [
       "$\\displaystyle 4 t - 2 G{\\left(t \\right)} + 10$"
      ],
      "text/plain": [
       "4*t - 2*G(t) + 10"
      ]
     },
     "execution_count": 9,
     "metadata": {},
     "output_type": "execute_result"
    }
   ],
   "source": [
    "# Ahora usamos la función anterior para encontrar la función de gasto, que depende del beneficio\n",
    "# G(t)=k*B(t)\n",
    "# B(t) representa el beneficio de la empresa y B(t)=I(t)-G(t), sabemos la función de I(t)\n",
    "\n",
    "def Gasto(t,G,k):\n",
    "    return k*((2*t+5)-G)\n",
    "\n",
    "G=sp.Function('G')\n",
    "t=sp.var('t')\n",
    "\n",
    "Gasto(t,G(t),2)"
   ]
  },
  {
   "cell_type": "code",
   "execution_count": 10,
   "id": "ca68482a",
   "metadata": {},
   "outputs": [
    {
     "data": {
      "text/latex": [
       "$\\displaystyle G{\\left(t \\right)} = C_{1} e^{- 2 t} + 2 t + 4$"
      ],
      "text/plain": [
       "Eq(G(t), C1*exp(-2*t) + 2*t + 4)"
      ]
     },
     "execution_count": 10,
     "metadata": {},
     "output_type": "execute_result"
    }
   ],
   "source": [
    "sp.dsolve(sp.diff(G(t),t)-Gasto(t,G(t),2),G(t))"
   ]
  },
  {
   "cell_type": "code",
   "execution_count": 11,
   "id": "3425f35d",
   "metadata": {},
   "outputs": [
    {
     "data": {
      "text/latex": [
       "$\\displaystyle G{\\left(0 \\right)} = C_{1} + 4$"
      ],
      "text/plain": [
       "Eq(G(0), C1 + 4)"
      ]
     },
     "execution_count": 11,
     "metadata": {},
     "output_type": "execute_result"
    }
   ],
   "source": [
    "sp.dsolve(sp.diff(G(t),t)-Gasto(t,G(t),2),G(t)).subs(t,0)"
   ]
  },
  {
   "cell_type": "code",
   "execution_count": 12,
   "id": "6ac09bbc",
   "metadata": {},
   "outputs": [
    {
     "data": {
      "image/png": "[encoded data removed]",
      "text/plain": [
       "<Figure size 432x288 with 1 Axes>"
      ]
     },
     "metadata": {
      "needs_background": "light"
     },
     "output_type": "display_data"
    }
   ],
   "source": [
    "# G(0)= 1, entonces C1= -3\n",
    "\n",
    "def sol_beneficio(t):\n",
    "    return ((2*t)+5)-((-3*np.exp(-2*t))+(2*t)+4)\n",
    "\n",
    "t=np.linspace(0,10,50)\n",
    "\n",
    "%matplotlib inline\n",
    "\n",
    "plt.figure()\n",
    "plt.plot(t,sol_beneficio(t))\n",
    "plt.grid()\n"
   ]
  },
  {
   "cell_type": "code",
   "execution_count": null,
   "id": "bdabe61c",
   "metadata": {},
   "outputs": [],
   "source": []
  }
 ],
 "metadata": {
  "kernelspec": {
   "display_name": "Python 3 (ipykernel)",
   "language": "python",
   "name": "python3"
  },
  "language_info": {
   "codemirror_mode": {
    "name": "ipython",
    "version": 3
   },
   "file_extension": ".py",
   "mimetype": "text/x-python",
   "name": "python",
   "nbconvert_exporter": "python",
   "pygments_lexer": "ipython3",
   "version": "3.9.12"
  }
 },
 "nbformat": 4,
 "nbformat_minor": 5
}
