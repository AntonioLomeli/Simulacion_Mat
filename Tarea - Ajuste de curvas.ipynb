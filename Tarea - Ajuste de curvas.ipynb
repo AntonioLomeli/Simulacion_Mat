{
 "cells": [
  {
   "cell_type": "markdown",
   "metadata": {},
   "source": [
    "# Tarea - Ajuste de curvas"
   ]
  },
  {
   "cell_type": "code",
   "execution_count": 2,
   "metadata": {},
   "outputs": [],
   "source": [
    "import numpy as np\n",
    "import pandas as pd\n",
    "import matplotlib.pyplot as plt"
   ]
  },
  {
   "cell_type": "markdown",
   "metadata": {},
   "source": [
    "---\n",
    "### Problema 1\n",
    "\n",
    "Los siguientes datos representan el costo en dólares de la electricidad según Western Electricity Coordinating Council desde el 2014 (y su pronóstico para el 2040)\n",
    "\n",
    "Tomado de:\n",
    "https://www.quandl.com/data/EIA/AEO_2016_REF_NO_CPP_PRCE_NA_COMM_NA_ELC_NA_WECCRKS_NCNTPKWH_A-Electricity-End-Use-Prices-Commercial-Western-Electricity-Coordinating-Council-Rockies-No-CPP-AEO2016"
   ]
  },
  {
   "cell_type": "code",
   "execution_count": 3,
   "metadata": {},
   "outputs": [],
   "source": [
    "import numpy as np\n",
    "# Datos extraidos de la página de quandl\n",
    "data = np.array([10.051101,  9.259127,  9.444813,  9.557723,  9.977324, 10.298326,\n",
    "       10.447217, 10.550506, 10.590784, 10.657418, 10.743085, 10.831965,\n",
    "       10.988435, 11.153055, 11.313326, 11.557165, 11.860136, 12.122511,\n",
    "       12.356448, 12.611391, 12.814569, 13.111372, 13.357134, 13.559012,\n",
    "       13.85861 , 14.135924, 14.436149])"
   ]
  },
  {
   "cell_type": "markdown",
   "metadata": {},
   "source": [
    "1. Ajuste estos datos a polinomios de grado 1 hasta 3 (los datos en $x$ corresponden a los años de 2014 a 2040, sin embargo son valores muy grandes para elevarlos a una potencia, use una representación para estos años, por ejemplo $2014 \\rightarrow 0$ y $2040\\rightarrow 26$).\n",
    "\n",
    "2. Muestre las tres curvas ajustadas junto a los datos de los costos en un solo gráfico"
   ]
  },
  {
   "cell_type": "code",
   "execution_count": 4,
   "metadata": {},
   "outputs": [
    {
     "data": {
      "image/png": "[encoded data removed]",
      "text/plain": [
       "<Figure size 432x288 with 1 Axes>"
      ]
     },
     "metadata": {
      "needs_background": "light"
     },
     "output_type": "display_data"
    }
   ],
   "source": [
    "# Estos son los puntos originales\n",
    "\n",
    "import matplotlib.pyplot as plt\n",
    "import scipy.optimize as opt\n",
    "%matplotlib inline\n",
    "\n",
    "m=len(data)\n",
    "x=np.linspace(0,26,m)\n",
    "\n",
    "plt.figure()\n",
    "plt.plot(x,data)\n",
    "plt.grid()\n"
   ]
  },
  {
   "cell_type": "code",
   "execution_count": 6,
   "metadata": {},
   "outputs": [
    {
     "data": {
      "text/plain": [
       "      fun: 2.3704889518155383\n",
       " hess_inv: array([[ 0.07010582, -0.00396825],\n",
       "       [-0.00396825,  0.00030525]])\n",
       "      jac: array([5.66244125e-07, 1.31130219e-06])\n",
       "  message: 'Optimization terminated successfully.'\n",
       "     nfev: 15\n",
       "      nit: 3\n",
       "     njev: 5\n",
       "   status: 0\n",
       "  success: True\n",
       "        x: array([9.11567637, 0.18667055])"
      ]
     },
     "execution_count": 6,
     "metadata": {},
     "output_type": "execute_result"
    }
   ],
   "source": [
    "# Hacemos el ajuste con una linea recta\n",
    "\n",
    "def fun_grado1(beta, X, y):\n",
    "    beta=np.reshape(beta,[2, -1])\n",
    "    pred= X @ beta\n",
    "    dsv= (pred-y).T @ (pred-y)\n",
    "    \n",
    "    return dsv[0][0]\n",
    "\n",
    "unos=np.ones([m, 1])\n",
    "x1=np.reshape(x, [ m , -1 ])\n",
    "\n",
    "X= np.hstack((unos,x1))\n",
    "beta_inicial=np.random.rand(2)\n",
    "y=np.reshape(data, [ m , -1 ])\n",
    "\n",
    "solucion=opt.minimize(fun_grado1, beta_inicial, args=(X,y))\n",
    "solucion"
   ]
  },
  {
   "cell_type": "code",
   "execution_count": 7,
   "metadata": {},
   "outputs": [
    {
     "data": {
      "text/plain": [
       "      fun: 0.8443845193920632\n",
       " hess_inv: array([[ 1.44225511e-01, -2.17569793e-02,  6.84181738e-04],\n",
       "       [-2.17569793e-02,  4.57454431e-03, -1.64203615e-04],\n",
       "       [ 6.84181738e-04, -1.64203615e-04,  6.31552361e-06]])\n",
       "      jac: array([6.85453415e-07, 1.04308128e-06, 7.59959221e-07])\n",
       "  message: 'Optimization terminated successfully.'\n",
       "     nfev: 28\n",
       "      nit: 4\n",
       "     njev: 7\n",
       "   status: 0\n",
       "  success: True\n",
       "        x: array([9.59128652e+00, 7.25241171e-02, 4.39024752e-03])"
      ]
     },
     "execution_count": 7,
     "metadata": {},
     "output_type": "execute_result"
    }
   ],
   "source": [
    "# Hacemos el ajuste con una función cuadrática\n",
    "\n",
    "def funcion(beta, X, y):\n",
    "    \n",
    "    beta=np.reshape(beta,[ 3 , -1 ])\n",
    "    pred= X @ beta\n",
    "    desv= (pred - y).T @ (pred - y)\n",
    "    \n",
    "    return desv[0][0]\n",
    "\n",
    "unos=np.ones([m, 1])\n",
    "x1=np.reshape(x, [ m , -1 ])\n",
    "x2=np.reshape(x**2, [ m , -1 ])\n",
    "\n",
    "X=np.hstack((unos, x1, x2))\n",
    "\n",
    "beta_inicial=np.random.rand(3)\n",
    "y=np.reshape(data, [ m , -1 ])\n",
    "\n",
    "solucion=opt.minimize(funcion, beta_inicial, args=(X,y))\n",
    "solucion"
   ]
  },
  {
   "cell_type": "code",
   "execution_count": 8,
   "metadata": {},
   "outputs": [
    {
     "data": {
      "text/plain": [
       "      fun: 0.8404346758506669\n",
       " hess_inv: array([[ 2.27239557e-01, -6.41154300e-02,  4.83488423e-03,\n",
       "        -1.06428269e-04],\n",
       "       [-6.41154300e-02,  2.61882156e-02, -2.28212618e-03,\n",
       "         5.43057069e-05],\n",
       "       [ 4.83488423e-03, -2.28212618e-03,  2.13850650e-04,\n",
       "        -5.32141349e-06],\n",
       "       [-1.06428269e-04,  5.43057069e-05, -5.32141349e-06,\n",
       "         1.36446500e-07]])\n",
       "      jac: array([ 0.00000000e+00,  0.00000000e+00, -2.98023224e-08, -1.34110451e-07])\n",
       "  message: 'Optimization terminated successfully.'\n",
       "     nfev: 50\n",
       "      nit: 5\n",
       "     njev: 10\n",
       "   status: 0\n",
       "  success: True\n",
       "        x: array([9.56752299e+00, 8.46495831e-02, 3.20207444e-03, 3.04659687e-05])"
      ]
     },
     "execution_count": 8,
     "metadata": {},
     "output_type": "execute_result"
    }
   ],
   "source": [
    "# Ajuste con curva de grado 3\n",
    "\n",
    "def funcion2(beta, X, y):\n",
    "    \n",
    "    beta=np.reshape(beta,[ 4 , -1 ])\n",
    "    pred= X @ beta\n",
    "    desv= (pred - y).T @ (pred - y)\n",
    "    \n",
    "    return desv[0][0]\n",
    "\n",
    "unos=np.ones([m, 1])\n",
    "x1=np.reshape(x, [ m , -1 ])\n",
    "x2=np.reshape(x**2, [ m , -1 ])\n",
    "x3=np.reshape(x**3, [ m , -1 ])\n",
    "\n",
    "X=np.hstack((unos, x1, x2, x3))\n",
    "\n",
    "beta_inicial=np.random.rand(4)\n",
    "y=np.reshape(data, [ m , -1 ])\n",
    "\n",
    "solucion=opt.minimize(funcion2, beta_inicial, args=(X,y))\n",
    "solucion"
   ]
  },
  {
   "cell_type": "code",
   "execution_count": 5,
   "metadata": {},
   "outputs": [
    {
     "data": {
      "text/plain": [
       "(9.0, 15.0)"
      ]
     },
     "execution_count": 5,
     "metadata": {},
     "output_type": "execute_result"
    },
    {
     "data": {
      "image/png": "[encoded data removed]",
      "text/plain": [
       "<Figure size 432x288 with 1 Axes>"
      ]
     },
     "metadata": {
      "needs_background": "light"
     },
     "output_type": "display_data"
    }
   ],
   "source": [
    "# Graficamos las tres curvas y comparamos con los puntos orginales\n",
    "\n",
    "x=np.linspace(0,26,m)\n",
    "\n",
    "plt.figure()\n",
    "plt.plot(x,data, label=\"Original\")\n",
    "plt.plot(x, 9.11567637+(0.18667055*x), 'g', label=\"Línea Recta\") # Función de grado 1\n",
    "plt.plot(x, 9.59128645+(0.0725241171*x)+(0.004390247527*(x**2)), \"r\", label=\"Cuadrática\") # Función de grado 2\n",
    "plt.plot(x, 9.56752299+(0.0846495831*x)+(0.00320207444*(x**2))+(0.0000304659687*(x**3)), \"y\", label=\"Cúbica\") # Función de grado 3\n",
    "plt.grid()\n",
    "plt.legend(loc=\"best\")\n",
    "plt.ylim([9,15])"
   ]
  },
  {
   "cell_type": "code",
   "execution_count": 16,
   "metadata": {},
   "outputs": [
    {
     "data": {
      "text/plain": [
       "      fun: 0.8404346758227135\n",
       " hess_inv: array([[ 2.27239836e-01, -6.41155369e-02,  4.83488763e-03,\n",
       "        -1.06428232e-04],\n",
       "       [-6.41155369e-02,  2.61881573e-02, -2.28211717e-03,\n",
       "         5.43054418e-05],\n",
       "       [ 4.83488763e-03, -2.28211717e-03,  2.13847628e-04,\n",
       "        -5.32129922e-06],\n",
       "       [-1.06428232e-04,  5.43054418e-05, -5.32129922e-06,\n",
       "         1.36442005e-07]])\n",
       "      jac: array([0.00000000e+00, 1.49011612e-08, 0.00000000e+00, 0.00000000e+00])\n",
       "  message: 'Optimization terminated successfully.'\n",
       "     nfev: 105\n",
       "      nit: 10\n",
       "     njev: 21\n",
       "   status: 0\n",
       "  success: True\n",
       "        x: array([9.56752299e+00, 8.46495840e-02, 3.20207436e-03, 3.04659703e-05])"
      ]
     },
     "execution_count": 16,
     "metadata": {},
     "output_type": "execute_result"
    }
   ],
   "source": []
  },
  {
   "cell_type": "code",
   "execution_count": 17,
   "metadata": {},
   "outputs": [
    {
     "data": {
      "image/png": "[encoded data removed]",
      "text/plain": [
       "<Figure size 432x288 with 1 Axes>"
      ]
     },
     "metadata": {
      "needs_background": "light"
     },
     "output_type": "display_data"
    }
   ],
   "source": [
    "x=np.linspace(0,26,m)\n",
    "\n",
    "plt.figure()\n",
    "plt.plot(x,data)\n",
    "plt.plot(x, 9.56752299+(0.0846495840*x)+(0.00320207436*(x**2)+(0.0000304659703*(x**3))), \"r\")\n",
    "plt.grid()"
   ]
  },
  {
   "cell_type": "markdown",
   "metadata": {},
   "source": [
    "---"
   ]
  },
  {
   "cell_type": "markdown",
   "metadata": {},
   "source": [
    "___\n",
    "### Problema 2\n",
    "\n",
    "El archivo `population_data.csv` contiene información histórica anual de México relativa a la población, nacimientos y muertes desde el año 1950 hasta el año 2015. La primer columna corresponde a los años, la segunda a la población, la tercera a los nacimientos y la última a los decesos.\n",
    "\n",
    "Tomado de: https://en.wikipedia.org/wiki/Demographics_of_Mexico.\n",
    "\n",
    "Importe estos datos usando la función `read_csv` del paquete `pandas`\n",
    "\n",
    "1. Usando los años como variable independiente $x$ y la población como variable dependiente $y$, ajustar polinomios de grado 1 hasta grado 3.\n",
    "\n",
    "    * Mostrar en un solo gráfico los datos de población contra los años, y los polinomios ajustados.\n",
    "\n",
    "    * Graficar el error cuadrático acumulado contra el número de términos.\n",
    "\n",
    "2. Repetir el punto 1 usando los nacimientos como variable dependiente $y$. Grafique las curvas ajustadas junto con los datos de nacimientos. Vea en un gráfico el error acumulado."
   ]
  },
  {
   "cell_type": "markdown",
   "metadata": {},
   "source": [
    "---"
   ]
  },
  {
   "cell_type": "code",
   "execution_count": 8,
   "metadata": {},
   "outputs": [
    {
     "data": {
      "text/plain": [
       "<matplotlib.collections.PathCollection at 0x12495af3310>"
      ]
     },
     "execution_count": 8,
     "metadata": {},
     "output_type": "execute_result"
    },
    {
     "data": {
      "image/png": "[encoded data removed]",
      "text/plain": [
       "<Figure size 432x288 with 1 Axes>"
      ]
     },
     "metadata": {
      "needs_background": "light"
     },
     "output_type": "display_data"
    }
   ],
   "source": [
    "import pandas as pd\n",
    "\n",
    "datos=pd.read_excel(\"population_data.xlsx\")\n",
    "poblacion=datos['Poblacion'].to_numpy()\n",
    "m=len(poblacion)\n",
    "x=np.linspace(0,m-1,m)\n",
    "\n",
    "plt.figure()\n",
    "plt.scatter(x,poblacion, s=3)\n",
    "\n",
    "# Datos históricos de la población en México"
   ]
  },
  {
   "cell_type": "code",
   "execution_count": 40,
   "metadata": {},
   "outputs": [
    {
     "data": {
      "text/plain": [
       "      fun: 212137169.55306005\n",
       " hess_inv: array([[1.09433436e-07, 1.74090019e-08],\n",
       "       [1.74090019e-08, 5.82000467e-06]])\n",
       "      jac: array([0., 0.])\n",
       "  message: 'Optimization terminated successfully.'\n",
       "     nfev: 90\n",
       "      nit: 11\n",
       "     njev: 30\n",
       "   status: 0\n",
       "  success: True\n",
       "        x: array([24138.03863617,  1543.97287783])"
      ]
     },
     "execution_count": 40,
     "metadata": {},
     "output_type": "execute_result"
    }
   ],
   "source": [
    "# Ajuste con modelo de grado uno\n",
    "def pob1(beta, X, y):\n",
    "    \n",
    "    beta=np.reshape(beta,[2, -1])\n",
    "    pred= X @ beta\n",
    "    dsv= (pred-y).T @ (pred-y)\n",
    "    \n",
    "    return dsv[0][0]\n",
    "\n",
    "unos=np.ones([m, 1])\n",
    "x1=np.reshape(x, [ m , -1 ])\n",
    "\n",
    "X= np.hstack((unos,x1))\n",
    "beta_inicial=np.random.rand(2)\n",
    "y=np.reshape(poblacion, [ m , -1 ])\n",
    "\n",
    "solucion=opt.minimize(pob1, beta_inicial, args=(X,y))\n",
    "solucion"
   ]
  },
  {
   "cell_type": "code",
   "execution_count": 33,
   "metadata": {},
   "outputs": [
    {
     "data": {
      "text/plain": [
       "      fun: 210941621.44899744\n",
       " hess_inv: array([[ 8.95305648e-02, -5.38900082e-03,  6.80655874e-05],\n",
       "       [-5.38900082e-03,  4.09776224e-04, -5.72724945e-06],\n",
       "       [ 6.80655874e-05, -5.72724945e-06,  8.49411121e-08]])\n",
       "      jac: array([0., 0., 0.])\n",
       "  message: 'Optimization terminated successfully.'\n",
       "     nfev: 48\n",
       "      nit: 9\n",
       "     njev: 12\n",
       "   status: 0\n",
       "  success: True\n",
       "        x: array([2.44255707e+04, 1.51701448e+03, 4.14756049e-01])"
      ]
     },
     "execution_count": 33,
     "metadata": {},
     "output_type": "execute_result"
    }
   ],
   "source": [
    "# Ajuste con modelo de grado dos\n",
    "def pob2(beta, X, y):\n",
    "    \n",
    "    beta=np.reshape(beta,[3, -1])\n",
    "    pred= X @ beta\n",
    "    dsv= (pred-y).T @ (pred-y)\n",
    "    \n",
    "    return dsv[0][0]\n",
    "\n",
    "unos=np.ones([m, 1])\n",
    "x1=np.reshape(x, [ m , -1 ])\n",
    "x2=np.reshape(x**2, [ m , -1 ])\n",
    "\n",
    "X= np.hstack((unos,x1,x2))\n",
    "beta_inicial=np.random.rand(3)\n",
    "y=np.reshape(poblacion, [ m , -1 ])\n",
    "\n",
    "solucion=opt.minimize(pob2, beta_inicial, args=(X,y))\n",
    "solucion"
   ]
  },
  {
   "cell_type": "code",
   "execution_count": 39,
   "metadata": {},
   "outputs": [
    {
     "data": {
      "text/plain": [
       "      fun: 25240442.641446788\n",
       " hess_inv: array([[ 5.01190027e-02,  1.33233508e-06,  6.67411727e-07,\n",
       "        -6.29321163e-07],\n",
       "       [ 1.33233508e-06,  5.85965998e-11,  2.88435526e-11,\n",
       "        -2.03905687e-11],\n",
       "       [ 6.67411727e-07,  2.88435526e-11,  1.44430926e-11,\n",
       "        -1.02139361e-11],\n",
       "       [-6.29321163e-07, -2.03905687e-11, -1.02139361e-11,\n",
       "         9.55793342e-12]])\n",
       "      jac: array([ 0.  ,  0.  ,  0.75, 21.25])\n",
       "  message: 'Desired error not necessarily achieved due to precision loss.'\n",
       "     nfev: 343\n",
       "      nit: 14\n",
       "     njev: 67\n",
       "   status: 2\n",
       "  success: False\n",
       "        x: array([ 2.84777619e+04,  7.39078513e+02,  3.05648927e+01, -3.09232056e-01])"
      ]
     },
     "execution_count": 39,
     "metadata": {},
     "output_type": "execute_result"
    }
   ],
   "source": [
    "# Ajuste con modelo de grado tres\n",
    "def pob3(beta, X, y):\n",
    "    \n",
    "    beta=np.reshape(beta,[4, -1])\n",
    "    pred= X @ beta\n",
    "    dsv= (pred-y).T @ (pred-y)\n",
    "    \n",
    "    return dsv[0][0]\n",
    "\n",
    "unos=np.ones([m, 1])\n",
    "x1=np.reshape(x, [ m , -1 ])\n",
    "x2=np.reshape(x**2, [ m , -1 ])\n",
    "x3=np.reshape(x**3, [ m , -1 ])\n",
    "\n",
    "X= np.hstack((unos,x1,x2,x3))\n",
    "beta_inicial=np.random.rand(4)\n",
    "y=np.reshape(poblacion, [ m , -1 ])\n",
    "\n",
    "solucion=opt.minimize(pob3, beta_inicial, args=(X,y))\n",
    "solucion"
   ]
  },
  {
   "cell_type": "code",
   "execution_count": 53,
   "metadata": {},
   "outputs": [
    {
     "data": {
      "text/plain": [
       "<matplotlib.legend.Legend at 0x17cbe014ac0>"
      ]
     },
     "execution_count": 53,
     "metadata": {},
     "output_type": "execute_result"
    },
    {
     "data": {
      "image/png": "[encoded data removed]",
      "text/plain": [
       "<Figure size 432x288 with 1 Axes>"
      ]
     },
     "metadata": {
      "needs_background": "light"
     },
     "output_type": "display_data"
    }
   ],
   "source": [
    "# Graficando las curvas y comparando con los datos reales:\n",
    "\n",
    "plt.figure()\n",
    "plt.plot(x,poblacion,'r',label=\"Histórico\")\n",
    "plt.plot(x,24138.03863617+(1543.97287783*x),'b',label=\"Línea Recta\")\n",
    "plt.plot(x,24425.5707+(1517.01448*x)+(0.414756049*(x**2)),'g',label=\"Cuadrática\")\n",
    "plt.plot(x,28477.7619+(739.078513*x)+(30.5648927*(x**2))-(0.309232056*(x**3)),'y',label=\"Cúbica\")\n",
    "plt.grid()\n",
    "plt.ylim([20000,100000])\n",
    "plt.xlim([0,50])\n",
    "plt.legend(loc=\"best\")"
   ]
  },
  {
   "cell_type": "code",
   "execution_count": 21,
   "metadata": {},
   "outputs": [
    {
     "data": {
      "text/plain": [
       "<matplotlib.collections.PathCollection at 0x12495d14640>"
      ]
     },
     "execution_count": 21,
     "metadata": {},
     "output_type": "execute_result"
    },
    {
     "data": {
      "image/png": "[encoded data removed]",
      "text/plain": [
       "<Figure size 432x288 with 1 Axes>"
      ]
     },
     "metadata": {
      "needs_background": "light"
     },
     "output_type": "display_data"
    }
   ],
   "source": [
    "# Para el modelo de los nacimientos\n",
    "nacimientos=datos['Nacimientos'].to_numpy()\n",
    "n=len(nacimientos)\n",
    "x2=np.linspace(0,n-1,n)\n",
    "\n",
    "plt.figure()\n",
    "plt.scatter(x,nacimientos, s=3)"
   ]
  },
  {
   "cell_type": "code",
   "execution_count": 15,
   "metadata": {},
   "outputs": [
    {
     "data": {
      "text/plain": [
       "      fun: 4737914384162.634\n",
       " hess_inv: array([[ 7.50828887e-03, -1.64768109e-04],\n",
       "       [-1.64768109e-04,  8.70684502e-06]])\n",
       "      jac: array([     0., 327680.])\n",
       "  message: 'Desired error not necessarily achieved due to precision loss.'\n",
       "     nfev: 213\n",
       "      nit: 8\n",
       "     njev: 67\n",
       "   status: 2\n",
       "  success: False\n",
       "        x: array([1563323.49236654,   21970.47767904])"
      ]
     },
     "execution_count": 15,
     "metadata": {},
     "output_type": "execute_result"
    }
   ],
   "source": [
    "# Haciendo el ajusto con una función de grado 1\n",
    "def nac1(beta, X, y):\n",
    "    \n",
    "    beta=np.reshape(beta,[2, -1])\n",
    "    pred= X @ beta\n",
    "    dsv= (pred-y).T @ (pred-y)\n",
    "    \n",
    "    return dsv[0][0]\n",
    "\n",
    "unos=np.ones([n, 1])\n",
    "x1=np.reshape(x2, [ n, -1 ])\n",
    "\n",
    "X= np.hstack((unos,x1))\n",
    "beta_inicial=np.random.rand(2)\n",
    "y=np.reshape(nacimientos, [ n , -1 ])\n",
    "\n",
    "solucion=opt.minimize(nac1, beta_inicial, args=(X,y))\n",
    "solucion"
   ]
  },
  {
   "cell_type": "code",
   "execution_count": 16,
   "metadata": {},
   "outputs": [
    {
     "data": {
      "text/plain": [
       "      fun: 492921144198.5442\n",
       " hess_inv: array([[ 3.24082205e-08, -1.59840800e-06,  3.23915370e-08],\n",
       "       [-1.59840800e-06,  8.40692434e-05, -1.59840698e-06],\n",
       "       [ 3.23915370e-08, -1.59840698e-06,  3.23915240e-08]])\n",
       "      jac: array([      0.,   -4096., -147456.])\n",
       "  message: 'Desired error not necessarily achieved due to precision loss.'\n",
       "     nfev: 280\n",
       "      nit: 8\n",
       "     njev: 68\n",
       "   status: 2\n",
       "  success: False\n",
       "        x: array([ 1.02121875e+06,  7.27710389e+04, -7.81473962e+02])"
      ]
     },
     "execution_count": 16,
     "metadata": {},
     "output_type": "execute_result"
    }
   ],
   "source": [
    "# Con una función de grado 2\n",
    "def nac2(beta, X, y):\n",
    "    \n",
    "    beta=np.reshape(beta,[3, -1])\n",
    "    pred= X @ beta\n",
    "    dsv= (pred-y).T @ (pred-y)\n",
    "    \n",
    "    return dsv[0][0]\n",
    "\n",
    "unos=np.ones([n, 1])\n",
    "x1=np.reshape(x2, [ n, -1 ])\n",
    "x2=np.reshape(x2**2, [ n, -1 ])\n",
    "\n",
    "X= np.hstack((unos,x1,x2))\n",
    "beta_inicial=np.random.rand(3)\n",
    "y=np.reshape(nacimientos, [ n , -1 ])\n",
    "\n",
    "solucion=opt.minimize(nac2, beta_inicial, args=(X,y))\n",
    "solucion"
   ]
  },
  {
   "cell_type": "code",
   "execution_count": 26,
   "metadata": {},
   "outputs": [
    {
     "data": {
      "text/plain": [
       "      fun: 457401527707.41077\n",
       " hess_inv: array([[ 3.86647495e-04, -3.86647494e-04,  1.01960583e-05,\n",
       "        -2.76900791e-13],\n",
       "       [-3.86647494e-04,  3.86647493e-04, -1.01960582e-05,\n",
       "         2.76900790e-13],\n",
       "       [ 1.01960583e-05, -1.01960582e-05,  2.79429350e-07,\n",
       "        -8.12549246e-15],\n",
       "       [-2.76900791e-13,  2.76900790e-13, -8.12549246e-15,\n",
       "         2.79132260e-22]])\n",
       "      jac: array([ 8.19200000e+03,  8.19200000e+03, -1.63266560e+07, -2.08975537e+14])\n",
       "  message: 'Desired error not necessarily achieved due to precision loss.'\n",
       "     nfev: 220\n",
       "      nit: 15\n",
       "     njev: 44\n",
       "   status: 2\n",
       "  success: False\n",
       "        x: array([ 1.05978406e+06,  6.68529733e+04, -6.37839179e+02, -4.47170554e-06])"
      ]
     },
     "execution_count": 26,
     "metadata": {},
     "output_type": "execute_result"
    }
   ],
   "source": [
    "# Con una función de grado 3\n",
    "def nac3(beta, X, y):\n",
    "    \n",
    "    beta=np.reshape(beta,[4, -1])\n",
    "    pred= X @ beta\n",
    "    dsv= (y-pred).T @ (y-pred)\n",
    "    \n",
    "    return dsv[0][0]\n",
    "\n",
    "x2=np.linspace(0,n-1,n)\n",
    "unos=np.ones([n, 1])\n",
    "x1=np.reshape(x2, [ n, -1 ])\n",
    "x2=np.reshape(x2**2, [ n, -1 ])\n",
    "x3=np.reshape(x2**3, [ n, -1 ])\n",
    "\n",
    "X= np.hstack((unos,x1,x2,x3))\n",
    "beta_inicial=np.random.rand(4)\n",
    "y=np.reshape(nacimientos, [ n , -1 ])\n",
    "\n",
    "solucion=opt.minimize(nac3, beta_inicial, args=(X,y))\n",
    "solucion"
   ]
  },
  {
   "cell_type": "code",
   "execution_count": 27,
   "metadata": {},
   "outputs": [
    {
     "data": {
      "text/plain": [
       "<matplotlib.legend.Legend at 0x12495dd7520>"
      ]
     },
     "execution_count": 27,
     "metadata": {},
     "output_type": "execute_result"
    },
    {
     "data": {
      "image/png": "[encoded data removed]",
      "text/plain": [
       "<Figure size 432x288 with 1 Axes>"
      ]
     },
     "metadata": {
      "needs_background": "light"
     },
     "output_type": "display_data"
    }
   ],
   "source": [
    "# Graficando las curvas y comparando con los datos históricos, para nacimientos:\n",
    "\n",
    "plt.figure()\n",
    "plt.plot(x,nacimientos,'r',label=\"Histórico\")\n",
    "plt.plot(x,1563016.33039242+(21976.11127997*x),'b',label=\"Línea Recta\")\n",
    "plt.plot(x,1021083.81+(72779.5866*x)-(781.584907*(x**2)),'g',label=\"Cuadrática\")\n",
    "plt.plot(x,1.05978406e+06+(6.68529733e+04*x)+(-6.37839179e+02*(x**2))+(-4.47170554e-06*(x**3)),'y',label=\"Cúbica\")\n",
    "plt.grid()\n",
    "plt.legend(loc='best')"
   ]
  },
  {
   "cell_type": "code",
   "execution_count": null,
   "metadata": {},
   "outputs": [],
   "source": []
  }
 ],
 "metadata": {
  "kernelspec": {
   "display_name": "Python 3 (ipykernel)",
   "language": "python",
   "name": "python3"
  },
  "language_info": {
   "codemirror_mode": {
    "name": "ipython",
    "version": 3
   },
   "file_extension": ".py",
   "mimetype": "text/x-python",
   "name": "python",
   "nbconvert_exporter": "python",
   "pygments_lexer": "ipython3",
   "version": "3.9.12"
  }
 },
 "nbformat": 4,
 "nbformat_minor": 2
}
