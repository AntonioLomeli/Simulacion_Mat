{
 "cells": [
  {
   "cell_type": "markdown",
   "id": "8221d456",
   "metadata": {},
   "source": [
    "## Actividad 1 en Phyton, repaso"
   ]
  },
  {
   "cell_type": "markdown",
   "id": "31e14f03",
   "metadata": {},
   "source": [
    "***Lista con 100 elementos múltiplos del 3***"
   ]
  },
  {
   "cell_type": "code",
   "execution_count": 10,
   "id": "0f896a4e",
   "metadata": {},
   "outputs": [
    {
     "name": "stdout",
     "output_type": "stream",
     "text": [
      "3, 6, 9, 12, 15, 18, 21, 24, 27, 30, 33, 36, 39, 42, 45, 48, 51, 54, 57, 60, 63, 66, 69, 72, 75, 78, 81, 84, 87, 90, 93, 96, 99, 102, 105, 108, 111, 114, 117, 120, 123, 126, 129, 132, 135, 138, 141, 144, 147, 150, 153, 156, 159, 162, 165, 168, 171, 174, 177, 180, 183, 186, 189, 192, 195, 198, 201, 204, 207, 210, 213, 216, 219, 222, 225, 228, 231, 234, 237, 240, 243, 246, 249, 252, 255, 258, 261, 264, 267, 270, 273, 276, 279, 282, 285, 288, 291, 294, 297\n"
     ]
    }
   ],
   "source": [
    "lista=[]\n",
    "\n",
    "for i in range(1,100):\n",
    "    r=str(i*3)\n",
    "    lista.append(r)\n",
    "\n",
    "print_lista=', '.join(lista)\n",
    "\n",
    "print(print_lista)"
   ]
  },
  {
   "cell_type": "markdown",
   "id": "7f25f1cd",
   "metadata": {},
   "source": [
    "***Cálculo del índice de masa corporal de 100 personas***"
   ]
  },
  {
   "cell_type": "code",
   "execution_count": 59,
   "id": "62eccd9e",
   "metadata": {},
   "outputs": [
    {
     "name": "stdout",
     "output_type": "stream",
     "text": [
      "El IMC promedio de los 100 adultos es de 31.81\n"
     ]
    }
   ],
   "source": [
    "import pandas as pd\n",
    "\n",
    "datos=pd.DataFrame(pd.read_excel('datosPE.xlsx'))\n",
    "datos=datos.astype(float)\n",
    "datos=datos.values.tolist()\n",
    "IMC=0\n",
    "\n",
    "for a in datos:\n",
    "    estatura=a[2]**2\n",
    "    peso=a[1]\n",
    "    IMC=IMC+(peso/estatura)\n",
    "    \n",
    "prom=(IMC/len(datos))\n",
    "prom=round(prom,2)\n",
    "\n",
    "print(f'El IMC promedio de los 100 adultos es de {prom}')\n"
   ]
  },
  {
   "cell_type": "markdown",
   "id": "f6406a7d",
   "metadata": {},
   "source": [
    "***Utilidad de una empresa, Promedio de Gastos e Ingresos Totales***"
   ]
  },
  {
   "cell_type": "code",
   "execution_count": 2,
   "id": "8b9c4e0c",
   "metadata": {},
   "outputs": [
    {
     "name": "stdout",
     "output_type": "stream",
     "text": [
      "La utilidad de la empresa por mes fue:\n",
      "\n",
      "Enero: -540\n",
      "Febrero: -540\n",
      "Marzo: 1430\n",
      "Abril: 1080\n",
      "Mayo: -1660\n",
      "Junio: -360\n",
      "Julio: -730\n",
      "Agosto: 1030\n",
      "Septiembre: 440\n",
      "Octubre: -160\n",
      "Noviembre: 2080\n",
      "Diciembre: -1760\n",
      "\n",
      "La UTILIDAD TOTAL de la empresa fue de: 310 pesos\n",
      "\n",
      "El GASTO PROMEDIO cuando la utiliidad fue negativa es de: 2517.14 pesos\n",
      "\n",
      "El INGRESO TOTAL de la empresa fue de: 28020 pesos\n"
     ]
    }
   ],
   "source": [
    "import pandas as pd\n",
    "\n",
    "datos=pd.DataFrame(pd.read_excel('datosCT.xlsx'))\n",
    "Itotal=datos['Ingreso'].sum()\n",
    "datos=datos.values.tolist()\n",
    "i=0\n",
    "negativos=0\n",
    "acum=0\n",
    "datos_nuevos=[]\n",
    "\n",
    "print('La utilidad de la empresa por mes fue:\\n')\n",
    "\n",
    "for a in datos:\n",
    "    aux=[]\n",
    "    utilidad=a[1]-a[2]\n",
    "    acum=acum+utilidad\n",
    "    \n",
    "    if utilidad<0:\n",
    "        i=i+1\n",
    "        negativos=negativos+a[2]\n",
    "        \n",
    "    print(str(a[0])+': '+str(utilidad))\n",
    "    \n",
    "prom_negativos=round(negativos/i,2)\n",
    "\n",
    "print(f'\\nLa UTILIDAD TOTAL de la empresa fue de: {acum} pesos')\n",
    "    \n",
    "print(f'\\nEl GASTO PROMEDIO cuando la utiliidad fue negativa es de: {prom_negativos} pesos')\n",
    "\n",
    "print(f'\\nEl INGRESO TOTAL de la empresa fue de: {Itotal} pesos')\n",
    "\n",
    "\n"
   ]
  },
  {
   "cell_type": "code",
   "execution_count": null,
   "id": "ca581306",
   "metadata": {},
   "outputs": [],
   "source": []
  }
 ],
 "metadata": {
  "kernelspec": {
   "display_name": "Python 3 (ipykernel)",
   "language": "python",
   "name": "python3"
  },
  "language_info": {
   "codemirror_mode": {
    "name": "ipython",
    "version": 3
   },
   "file_extension": ".py",
   "mimetype": "text/x-python",
   "name": "python",
   "nbconvert_exporter": "python",
   "pygments_lexer": "ipython3",
   "version": "3.9.12"
  }
 },
 "nbformat": 4,
 "nbformat_minor": 5
}
