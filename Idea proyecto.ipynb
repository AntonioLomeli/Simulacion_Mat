{
 "cells": [
  {
   "cell_type": "markdown",
   "id": "4ff17f2a",
   "metadata": {},
   "source": [
    "Usar simulación montecarlo para predecir el precio de un activo a partir de los factores que afectan su precio.\n",
    "\n",
    "Por ejemplo, un **cultivo** como la soya o el maíz.\n",
    "\n",
    "> Se ve afectado por diversos factores como la temperatura, lluvia o demanda en una región.\n",
    "> Podemos estimar un modelo que describa su precio a partir de posibles escenarios.\n",
    "> Nuestra propuesta es la siguiente:"
   ]
  },
  {
   "cell_type": "markdown",
   "id": "61fcf26a",
   "metadata": {},
   "source": [
    "| Escenario  | Probabilidad  |  Lluvia (a) | Temperatura (b)  | Demanda (c)  |\n",
    "|---|---    |---     |---|---|\n",
    "| 1  | 0.45  | 0.06   | 0.012   | 0.01   |\n",
    "| 2  | 0.37  | 0.003  | 0.007   | 0.005  |\n",
    "| 3  | 0.15  |  -0.01 | -0.001  | -0.003 |\n",
    "| 4  | 0.03  | -0.10  | -0.04   | -0.05  |"
   ]
  },
  {
   "cell_type": "markdown",
   "id": "f0ce247e",
   "metadata": {},
   "source": [
    "Los escenarios representan lo favorable que serían las condiciones de clima y demanda para que le precio del commodity suba. Los valores en las celdas de lluvia, temperatura y demanda representan el cambio porcenual que tendría el precio del commodity con cada semana que se den esas condiciones. El modelo quedaría como\n",
    "\n",
    "$$ P_{actual}=(P_{anterior})(1+a+b+c) $$"
   ]
  },
  {
   "cell_type": "code",
   "execution_count": null,
   "id": "b5d1b7a4",
   "metadata": {},
   "outputs": [],
   "source": []
  }
 ],
 "metadata": {
  "kernelspec": {
   "display_name": "Python 3 (ipykernel)",
   "language": "python",
   "name": "python3"
  },
  "language_info": {
   "codemirror_mode": {
    "name": "ipython",
    "version": 3
   },
   "file_extension": ".py",
   "mimetype": "text/x-python",
   "name": "python",
   "nbconvert_exporter": "python",
   "pygments_lexer": "ipython3",
   "version": "3.9.12"
  }
 },
 "nbformat": 4,
 "nbformat_minor": 5
}
