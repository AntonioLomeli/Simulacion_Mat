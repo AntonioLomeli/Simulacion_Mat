{
 "cells": [
  {
   "cell_type": "markdown",
   "metadata": {},
   "source": [
    "# Tarea - Ajuste de curvas"
   ]
  },
  {
   "cell_type": "code",
   "execution_count": 1,
   "metadata": {},
   "outputs": [],
   "source": [
    "import numpy as np\n",
    "import pandas as pd\n",
    "import matplotlib.pyplot as plt"
   ]
  },
  {
   "cell_type": "markdown",
   "metadata": {},
   "source": [
    "---\n",
    "### Problema 1\n",
    "\n",
    "Los siguientes datos representan el costo en dólares de la electricidad según Western Electricity Coordinating Council desde el 2014 (y su pronóstico para el 2040)\n",
    "\n",
    "Tomado de:\n",
    "https://www.quandl.com/data/EIA/AEO_2016_REF_NO_CPP_PRCE_NA_COMM_NA_ELC_NA_WECCRKS_NCNTPKWH_A-Electricity-End-Use-Prices-Commercial-Western-Electricity-Coordinating-Council-Rockies-No-CPP-AEO2016"
   ]
  },
  {
   "cell_type": "code",
   "execution_count": 1,
   "metadata": {},
   "outputs": [],
   "source": [
    "import numpy as np\n",
    "# Datos extraidos de la página de quandl\n",
    "data = np.array([10.051101,  9.259127,  9.444813,  9.557723,  9.977324, 10.298326,\n",
    "       10.447217, 10.550506, 10.590784, 10.657418, 10.743085, 10.831965,\n",
    "       10.988435, 11.153055, 11.313326, 11.557165, 11.860136, 12.122511,\n",
    "       12.356448, 12.611391, 12.814569, 13.111372, 13.357134, 13.559012,\n",
    "       13.85861 , 14.135924, 14.436149])"
   ]
  },
  {
   "cell_type": "markdown",
   "metadata": {},
   "source": [
    "1. Ajuste estos datos a polinomios de grado 1 hasta 3 (los datos en $x$ corresponden a los años de 2014 a 2040, sin embargo son valores muy grandes para elevarlos a una potencia, use una representación para estos años, por ejemplo $2014 \\rightarrow 0$ y $2040\\rightarrow 26$).\n",
    "\n",
    "2. Muestre las tres curvas ajustadas junto a los datos de los costos en un solo gráfico"
   ]
  },
  {
   "cell_type": "code",
   "execution_count": 7,
   "metadata": {},
   "outputs": [
    {
     "data": {
      "image/png": "[encoded data removed]",
      "text/plain": [
       "<Figure size 432x288 with 1 Axes>"
      ]
     },
     "metadata": {
      "needs_background": "light"
     },
     "output_type": "display_data"
    }
   ],
   "source": [
    "import matplotlib.pyplot as plt\n",
    "import scipy.optimize as opt\n",
    "%matplotlib inline\n",
    "\n",
    "m=27\n",
    "x=np.linspace(0,26,m)\n",
    "\n",
    "plt.figure()\n",
    "plt.plot(x,data)\n",
    "plt.grid()\n"
   ]
  },
  {
   "cell_type": "code",
   "execution_count": 9,
   "metadata": {},
   "outputs": [
    {
     "data": {
      "text/plain": [
       "1448.503200314958"
      ]
     },
     "execution_count": 9,
     "metadata": {},
     "output_type": "execute_result"
    }
   ],
   "source": [
    "# intentando hacer el ajuste con una función cuadrática\n",
    "\n",
    "def funcion(beta, X, y):\n",
    "    \n",
    "    beta=np.reshape(beta,[ 3 , -1 ])\n",
    "    pred= X @ beta\n",
    "    desv= (pred - y).T @ (pred - y)\n",
    "    \n",
    "    return desv[0][0]\n",
    "\n",
    "unos=np.ones([m, 1])\n",
    "x1=np.reshape(x, [ m , -1 ])\n",
    "x2=np.reshape(x**2, [ m , -1 ])\n",
    "\n",
    "X=np.hstack((unos, x1, x2))\n",
    "\n",
    "beta_inicial=np.random.rand(3)\n",
    "y=np.reshape(data, [ m , -1 ])\n",
    "\n",
    "funcion(beta_inicial,X,y)"
   ]
  },
  {
   "cell_type": "code",
   "execution_count": 12,
   "metadata": {},
   "outputs": [
    {
     "data": {
      "text/plain": [
       "      fun: 0.8443845194029815\n",
       " hess_inv: array([[ 1.44263294e-01, -2.17631001e-02,  6.84380848e-04],\n",
       "       [-2.17631001e-02,  4.57553588e-03, -1.64235871e-04],\n",
       "       [ 6.84380848e-04, -1.64235871e-04,  6.31657291e-06]])\n",
       "      jac: array([ 1.49011612e-08, -1.49011612e-08,  0.00000000e+00])\n",
       "  message: 'Optimization terminated successfully.'\n",
       "     nfev: 32\n",
       "      nit: 6\n",
       "     njev: 8\n",
       "   status: 0\n",
       "  success: True\n",
       "        x: array([9.59128645e+00, 7.25241275e-02, 4.39024722e-03])"
      ]
     },
     "execution_count": 12,
     "metadata": {},
     "output_type": "execute_result"
    }
   ],
   "source": [
    "solucion=opt.minimize(funcion, beta_inicial, args=(X,y))\n",
    "solucion"
   ]
  },
  {
   "cell_type": "code",
   "execution_count": 13,
   "metadata": {},
   "outputs": [
    {
     "data": {
      "image/png": "[encoded data removed]",
      "text/plain": [
       "<Figure size 432x288 with 1 Axes>"
      ]
     },
     "metadata": {
      "needs_background": "light"
     },
     "output_type": "display_data"
    }
   ],
   "source": [
    "x=np.linspace(0,26,m)\n",
    "\n",
    "plt.figure()\n",
    "plt.plot(x,data)\n",
    "plt.plot(x, 9.59128645+(0.072524127*x)+(0.004390247*(x**2)), \"r\")\n",
    "plt.grid()"
   ]
  },
  {
   "cell_type": "code",
   "execution_count": 16,
   "metadata": {},
   "outputs": [
    {
     "data": {
      "text/plain": [
       "      fun: 0.8404346758227135\n",
       " hess_inv: array([[ 2.27239836e-01, -6.41155369e-02,  4.83488763e-03,\n",
       "        -1.06428232e-04],\n",
       "       [-6.41155369e-02,  2.61881573e-02, -2.28211717e-03,\n",
       "         5.43054418e-05],\n",
       "       [ 4.83488763e-03, -2.28211717e-03,  2.13847628e-04,\n",
       "        -5.32129922e-06],\n",
       "       [-1.06428232e-04,  5.43054418e-05, -5.32129922e-06,\n",
       "         1.36442005e-07]])\n",
       "      jac: array([0.00000000e+00, 1.49011612e-08, 0.00000000e+00, 0.00000000e+00])\n",
       "  message: 'Optimization terminated successfully.'\n",
       "     nfev: 105\n",
       "      nit: 10\n",
       "     njev: 21\n",
       "   status: 0\n",
       "  success: True\n",
       "        x: array([9.56752299e+00, 8.46495840e-02, 3.20207436e-03, 3.04659703e-05])"
      ]
     },
     "execution_count": 16,
     "metadata": {},
     "output_type": "execute_result"
    }
   ],
   "source": [
    "def funcion2(beta, X, y):\n",
    "    \n",
    "    beta=np.reshape(beta,[ 4 , -1 ])\n",
    "    pred= X @ beta\n",
    "    desv= (pred - y).T @ (pred - y)\n",
    "    \n",
    "    return desv[0][0]\n",
    "\n",
    "unos=np.ones([m, 1])\n",
    "x1=np.reshape(x, [ m , -1 ])\n",
    "x2=np.reshape(x**2, [ m , -1 ])\n",
    "x3=np.reshape(x**3, [ m , -1 ])\n",
    "\n",
    "X=np.hstack((unos, x1, x2, x3))\n",
    "\n",
    "beta_inicial=np.random.rand(4)\n",
    "y=np.reshape(data, [ m , -1 ])\n",
    "\n",
    "solucion=opt.minimize(funcion2, beta_inicial, args=(X,y))\n",
    "solucion"
   ]
  },
  {
   "cell_type": "code",
   "execution_count": 17,
   "metadata": {},
   "outputs": [
    {
     "data": {
      "image/png": "[encoded data removed]",
      "text/plain": [
       "<Figure size 432x288 with 1 Axes>"
      ]
     },
     "metadata": {
      "needs_background": "light"
     },
     "output_type": "display_data"
    }
   ],
   "source": [
    "x=np.linspace(0,26,m)\n",
    "\n",
    "plt.figure()\n",
    "plt.plot(x,data)\n",
    "plt.plot(x, 9.56752299+(0.0846495840*x)+(0.00320207436*(x**2)+(0.0000304659703*(x**3))), \"r\")\n",
    "plt.grid()"
   ]
  },
  {
   "cell_type": "code",
   "execution_count": null,
   "metadata": {},
   "outputs": [],
   "source": []
  },
  {
   "cell_type": "code",
   "execution_count": null,
   "metadata": {},
   "outputs": [],
   "source": []
  },
  {
   "cell_type": "markdown",
   "metadata": {},
   "source": [
    "---"
   ]
  },
  {
   "cell_type": "markdown",
   "metadata": {},
   "source": [
    "___\n",
    "### Problema 2\n",
    "\n",
    "El archivo `population_data.csv` contiene información histórica anual de México relativa a la población, nacimientos y muertes desde el año 1950 hasta el año 2015. La primer columna corresponde a los años, la segunda a la población, la tercera a los nacimientos y la última a los decesos.\n",
    "\n",
    "Tomado de: https://en.wikipedia.org/wiki/Demographics_of_Mexico.\n",
    "\n",
    "Importe estos datos usando la función `read_csv` del paquete `pandas`\n",
    "\n",
    "1. Usando los años como variable independiente $x$ y la población como variable dependiente $y$, ajustar polinomios de grado 1 hasta grado 3.\n",
    "\n",
    "    * Mostrar en un solo gráfico los datos de población contra los años, y los polinomios ajustados.\n",
    "\n",
    "    * Graficar el error cuadrático acumulado contra el número de términos.\n",
    "\n",
    "2. Repetir el punto 1 usando los nacimientos como variable dependiente $y$. Grafique las curvas ajustadas junto con los datos de nacimientos. Vea en un gráfico el error acumulado."
   ]
  },
  {
   "cell_type": "markdown",
   "metadata": {},
   "source": [
    "---"
   ]
  },
  {
   "cell_type": "code",
   "execution_count": null,
   "metadata": {},
   "outputs": [],
   "source": []
  },
  {
   "cell_type": "code",
   "execution_count": null,
   "metadata": {},
   "outputs": [],
   "source": []
  },
  {
   "cell_type": "code",
   "execution_count": null,
   "metadata": {},
   "outputs": [],
   "source": []
  },
  {
   "cell_type": "code",
   "execution_count": null,
   "metadata": {},
   "outputs": [],
   "source": []
  }
 ],
 "metadata": {
  "kernelspec": {
   "display_name": "Python 3 (ipykernel)",
   "language": "python",
   "name": "python3"
  },
  "language_info": {
   "codemirror_mode": {
    "name": "ipython",
    "version": 3
   },
   "file_extension": ".py",
   "mimetype": "text/x-python",
   "name": "python",
   "nbconvert_exporter": "python",
   "pygments_lexer": "ipython3",
   "version": "3.9.12"
  }
 },
 "nbformat": 4,
 "nbformat_minor": 2
}
